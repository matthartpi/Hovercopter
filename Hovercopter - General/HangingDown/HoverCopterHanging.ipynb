{
 "cells": [
  {
   "cell_type": "markdown",
   "id": "b07a4258-0dbe-40f0-85fe-9a46e5505c75",
   "metadata": {},
   "source": [
    "![](FBD.png)\n",
    "Equations:\n",
    "$$T = 1/2m((\\dot{z})^2+(\\dot{y})^2)$$\n",
    "$$y = lsin\\theta \\dot{y} = l\\dot{\\theta} cos\\theta$$\n",
    "$$v = mgz$$\n",
    "$$L = 1/2m((-l{\\dot \\theta})^2 + (l cos\\theta)^2) - mglcos\\theta$$\n",
    "$$d/dt(\\partial L/(\\partial \\dot{y})) - \\partial L/\\partial y = f$$\n",
    "$$\\partial L/\\partial \\dot{y} = ml\\dot{\\theta} cos\\theta$$\n",
    "$$\\partial L/\\partial \\dot{\\theta} = m \\dot{\\theta} l^2$$\n",
    "$$d/dt(\\partial L/ \\partial \\dot{\\theta}) - \\partial L/ \\partial \\theta = 0$$\n",
    "$$\\partial L/\\partial y = 0$$\n",
    "$$\\partial L/\\partial \\theta = mglsin\\theta$$\n",
    "\n",
    "Equations:\n",
    "$$T = \\frac{1}{2m}((\\dot z)^2+(\\dot y)^2)$$\n",
    "$$y = lsin\\theta \\dot y = l \\dot \\theta cos\\theta$$\n",
    "$$v = mgz$$\n",
    "$$L = \\frac{1}{2m}((-l\\dot \\theta)^2 + (l cos\\theta)^2) - mglcos\\theta$$\n",
    "$$\\frac{d}{dt}(\\frac{\\partial L}{\\partial \\dot y}) - \\frac{\\partial L}{\\partial y} = f$$\n",
    "$$\\frac{\\partial L}{\\partial \\dot y} = ml\\dot \\theta cos\\theta$$\n",
    "$$\\frac{\\partial L}{\\partial \\dot \\theta} = m \\dot \\theta l^2$$\n",
    "$$\\frac{d}{dt}(\\frac{\\partial L}{ \\partial \\dot \\theta}) - \\frac{\\partial L}{ \\partial \\theta} = 0$$\n",
    "$$\\frac{\\partial L}{\\partial y} = 0$$\n",
    "$$\\frac{\\partial L}{\\partial \\theta} = mglsin\\theta$$"
   ]
  },
  {
   "cell_type": "markdown",
   "id": "7e151c50-6a34-4ebc-ae1c-fffb9ee192ea",
   "metadata": {},
   "source": [
    "$$ml(\\ddot{\\theta} - \\dot{\\theta} sin\\theta) = f$$\n",
    "$$m\\ddot{\\theta} l^2 - mglsin\\theta = 0$$\n",
    "\n",
    "Using the small angle approximation $cos\\theta$ and $sin\\theta = \\theta$:\n",
    "$$ml \\ddot{\\theta} \\theta = f$$\n",
    "$$m \\ddot{\\theta} l^2 - mgl\\theta = 0$$\n",
    "$$m \\ddot{\\theta} = mgsin\\theta$$\n",
    "$$\\dot{\\omega} = g\\theta/l$$\n",
    "$$J\\ddot{\\theta} = (f-mgsin\\theta)l$$\n",
    "$$\\dot{\\omega} = f/ml\\theta$$\n",
    "$$\\dot{\\omega} = fl/J - mgl\\theta/J$$\n",
    "$$f = f - mg\\theta$$\n",
    "\n",
    "$$\\Longrightarrow \\begin{bmatrix} \\dot{\\theta} \\\\ \\dot{\\omega} \\end{bmatrix} = \\begin{bmatrix} 0 & 1 \\\\ 0 & 0 \\end{bmatrix} \\begin{bmatrix} \\theta \\\\ \\omega \\end{bmatrix} + \\begin{bmatrix} 0 \\\\ l/J \\end{bmatrix} f_m'$$"
   ]
  },
  {
   "cell_type": "markdown",
   "id": "86fd8487-37a9-45dc-9789-1c4a653f7038",
   "metadata": {},
   "source": [
    "For torque and force:\n",
    "$$\\tau = rf = -(k^2/R)\\omega + (k/R)e$$\n",
    "$$m\\ddot{y} = f - mg\\theta$$\n",
    "$$f = -(k^2/Rr)\\omega + (k/Rr)e$$\n",
    "\n",
    "For state variables $\\omega$ and $\\theta$:\n",
    "$$\\theta[n + 1] = \\theta[n] + t_s\\omega[n]$$\n",
    "$$\\omega[n + 1] = \\omega[n] + t_s\\alpha[n]$$\n",
    "$$\\alpha[n] = \\gamma k_p(\\theta_d - \\theta[n])$$"
   ]
  },
  {
   "cell_type": "code",
   "execution_count": 2,
   "id": "a84d23d8-1d0d-4644-ba18-c73022003285",
   "metadata": {},
   "outputs": [
    {
     "name": "stdout",
     "output_type": "stream",
     "text": [
      "M = 0.023000\n",
      "m = 0.026400\n",
      "l = 0.2500\n",
      "r1 = 5.0000e-03\n",
      "r2 = 6.0000e-03\n",
      "g = 9.8100\n",
      "J = 1.9879e-03\n",
      "A =\n",
      "\n",
      "   0   1\n",
      "   0   0\n",
      "\n",
      "B =\n",
      "\n",
      "          0\n",
      "   125.7545\n",
      "\n",
      "C =\n",
      "\n",
      "   1   0\n",
      "   0   1\n",
      "\n",
      "Eigenvectors and eigenvalues of A:\n",
      "v =\n",
      "\n",
      "   1.0000  -1.0000\n",
      "        0   0.0000\n",
      "\n",
      "D =\n",
      "\n",
      "Diagonal Matrix\n",
      "\n",
      "   0   0\n",
      "   0   0\n",
      "\n"
     ]
    },
    {
     "data": {
      "image/png": "[encoded data removed]",
      "text/plain": [
       "<IPython.core.display.Image object>"
      ]
     },
     "metadata": {},
     "output_type": "display_data"
    }
   ],
   "source": [
    "clear all; close all;\n",
    "pkg load control\n",
    "pkg load signal\n",
    "set(gcf,'Visible','on')\n",
    "graphics_toolkit(\"gnuplot\")\n",
    "\n",
    "% First set up the parameters for the pendulum/Hover Copter Arm.\n",
    "M = 0.0230 % Mass of the motor (kg)\n",
    "m = 0.0264 % mass of the rod/arm (kg)\n",
    "l = 0.25 % length of the hover copter arm (meters)\n",
    "r1 = 0.005 % inner radius of rod/arm (m)\n",
    "r2 = 0.006 % outer radius of rod/arm (m)\n",
    "g = 9.81  % gravity (m/s^2)\n",
    "%s = 1  %  -1 for hanging down; +1 for up\n",
    "%R = 0.6 (Ohms) -> Not needed for this since the motor is off and isn't a pivot point\n",
    "\n",
    "% Calculate TOTAL J (moment of inertia)\n",
    "J = (m/12)*(3*(r1^2 + r2^2) + (2*l)^2) + M*l^2\n",
    "% (using the I_y equation from https://amesweb.info/inertia/hollow-cylinder-moment-of-inertia.aspx)\n",
    "\n",
    "function [CopterSys, A, B, C, D] = setupModel(M=0.0230, m=0.0264, l=0.25, g=9.81, s=1, J=0.001988)\n",
    "    % State model ve\n",
    "    A = [[0, 1];[0, 0]];\n",
    "    B = [0; l/J];\n",
    "    C = [[1, 0]; [0, 1]];\n",
    "    D = 0;\n",
    "    CopterSys = ss(A, B, C, D);\n",
    "endfunction\n",
    "\n",
    "[CopterSys, A, B, C, D] = setupModel();\n",
    "A\n",
    "B\n",
    "C\n",
    "\n",
    "t = 0:0.01:10;\n",
    "lsim(CopterSys,zeros(size(t)),t,[0;pi+0.1])\n",
    "disp('Eigenvectors and eigenvalues of A:')\n",
    "[v,D] = eig(CopterSys.a) % Better be all negative for hanging down.\n",
    "\n"
   ]
  },
  {
   "cell_type": "code",
   "execution_count": null,
   "id": "5414f4a7-34a8-4b27-8400-a7a5566ac77c",
   "metadata": {},
   "outputs": [],
   "source": []
  },
  {
   "cell_type": "code",
   "execution_count": null,
   "id": "28e7dd2a-17bc-4b1d-9d9c-65b8851fb7f0",
   "metadata": {},
   "outputs": [],
   "source": []
  }
 ],
 "metadata": {
  "kernelspec": {
   "display_name": "Octave",
   "language": "octave",
   "name": "octave_kernel"
  },
  "language_info": {
   "file_extension": ".m",
   "help_links": [
    {
     "text": "GNU Octave",
     "url": "https://www.gnu.org/software/octave/support.html"
    },
    {
     "text": "Octave Kernel",
     "url": "https://github.com/Calysto/octave_kernel"
    },
    {
     "text": "MetaKernel Magics",
     "url": "https://metakernel.readthedocs.io/en/latest/source/README.html"
    }
   ],
   "mimetype": "text/x-octave",
   "name": "octave",
   "version": "6.2.0"
  }
 },
 "nbformat": 4,
 "nbformat_minor": 5
}
