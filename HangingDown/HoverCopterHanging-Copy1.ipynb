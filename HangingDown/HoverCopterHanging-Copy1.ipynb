{
 "cells": [
  {
   "cell_type": "markdown",
   "id": "b07a4258-0dbe-40f0-85fe-9a46e5505c75",
   "metadata": {},
   "source": [
    "![](FBD.png)\n",
    "\n",
    "Equations:\n",
    "$$T = 1/2m((\\dot{z})^2+(\\dot{y})^2)$$\n",
    "$$y = lsin\\theta \\dot{y} = l\\dot{\\theta} cos\\theta$$\n",
    "$$v = mgz$$\n",
    "$$L = 1/2m((-l{\\dot \\theta})^2 + (l cos\\theta)^2) - mglcos\\theta$$\n",
    "$$d/dt(\\partial L/(\\partial \\dot{y})) - \\partial L/\\partial y = f$$\n",
    "$$\\partial L/\\partial \\dot{y} = ml\\dot{\\theta} cos\\theta$$\n",
    "$$\\partial L/\\partial \\dot{\\theta} = m \\dot{\\theta} l^2$$\n",
    "$$d/dt(\\partial L/ \\partial \\dot{\\theta}) - \\partial L/ \\partial \\theta = 0$$\n",
    "$$\\partial L/\\partial y = 0$$\n",
    "$$\\partial L/\\partial \\theta = mglsin\\theta$$\n",
    "\n",
    "Equations:\n",
    "$$T = \\frac{1}{2m}((\\dot z)^2+(\\dot y)^2)$$\n",
    "$$y = lsin\\theta \\dot y = l \\dot \\theta cos\\theta$$\n",
    "$$v = mgz$$\n",
    "$$L = \\frac{1}{2m}((-l\\dot \\theta)^2 + (l cos\\theta)^2) - mglcos\\theta$$\n",
    "$$\\frac{d}{dt}(\\frac{\\partial L}{\\partial \\dot y}) - \\frac{\\partial L}{\\partial y} = f$$\n",
    "$$\\frac{\\partial L}{\\partial \\dot y} = ml\\dot \\theta cos\\theta$$\n",
    "$$\\frac{\\partial L}{\\partial \\dot \\theta} = m \\dot \\theta l^2$$\n",
    "$$\\frac{d}{dt}(\\frac{\\partial L}{ \\partial \\dot \\theta}) - \\frac{\\partial L}{ \\partial \\theta} = 0$$\n",
    "$$\\frac{\\partial L}{\\partial y} = 0$$\n",
    "$$\\frac{\\partial L}{\\partial \\theta} = mglsin\\theta$$"
   ]
  },
  {
   "cell_type": "markdown",
   "id": "7e151c50-6a34-4ebc-ae1c-fffb9ee192ea",
   "metadata": {},
   "source": [
    "$$ml(\\ddot{\\theta} - \\dot{\\theta} sin\\theta) = f$$\n",
    "$$m\\ddot{\\theta} l^2 - mglsin\\theta = 0$$\n",
    "\n",
    "Using the small angle approximation $cos\\theta$ and $sin\\theta = \\theta$:\n",
    "$$ml \\ddot{\\theta} \\theta = f$$\n",
    "$$m \\ddot{\\theta} l^2 - mgl\\theta = 0$$\n",
    "$$m \\ddot{\\theta} = mgsin\\theta$$\n",
    "$$\\dot{\\omega} = g\\theta/l$$\n",
    "$$J\\ddot{\\theta} = (f-mgsin\\theta)l$$\n",
    "$$\\dot{\\omega} = f/ml\\theta$$\n",
    "$$\\dot{\\omega} = fl/J - mgl\\theta/J$$\n",
    "$$f = f - mg\\theta$$\n",
    "\n",
    "$$\\Longrightarrow \\begin{bmatrix} \\dot{\\theta} \\\\ \\dot{\\omega} \\end{bmatrix} = \\begin{bmatrix} 0 & 1 \\\\ 0 & 0 \\end{bmatrix} \\begin{bmatrix} \\theta \\\\ \\omega \\end{bmatrix} + \\begin{bmatrix} 0 \\\\ l/J \\end{bmatrix} f_m'$$"
   ]
  },
  {
   "cell_type": "markdown",
   "id": "86fd8487-37a9-45dc-9789-1c4a653f7038",
   "metadata": {},
   "source": [
    "For torque and force:\n",
    "$$\\tau = rf = -(k^2/R)\\omega + (k/R)e$$\n",
    "$$m\\ddot{y} = f - mg\\theta$$\n",
    "$$f = -(k^2/Rr)\\omega + (k/Rr)e$$\n",
    "\n",
    "For state variables $\\omega$ and $\\theta$:\n",
    "$$\\theta[n + 1] = \\theta[n] + t_s\\omega[n]$$\n",
    "$$\\omega[n + 1] = \\omega[n] + t_s\\alpha[n]$$\n",
    "$$\\alpha[n] = \\gamma k_p(\\theta_d - \\theta[n])$$"
   ]
  },
  {
   "cell_type": "code",
   "execution_count": 2,
   "id": "a84d23d8-1d0d-4644-ba18-c73022003285",
   "metadata": {},
   "outputs": [],
   "source": [
    "clear all; close all;\n",
    "pkg load control\n",
    "pkg load signal\n",
    "graphics_toolkit('gnuplot')\n",
    "\n",
    "% First set up the parameters for the pendulum.\n",
    "% m = 0.0137 % Mass of the motor and arm (kg) when theta = 90 degrees\n",
    "% l = 0.323 % length of the long pendulum rod (meters)\n",
    "% g = 9.81  % gravity (m/s^2)\n",
    "% s = 1  %  -1 for hanging down; +1 for up"
   ]
  },
  {
   "cell_type": "code",
   "execution_count": null,
   "id": "5414f4a7-34a8-4b27-8400-a7a5566ac77c",
   "metadata": {},
   "outputs": [],
   "source": []
  }
 ],
 "metadata": {
  "kernelspec": {
   "display_name": "Octave",
   "language": "octave",
   "name": "octave_kernel"
  },
  "language_info": {
   "file_extension": ".m",
   "help_links": [
    {
     "text": "GNU Octave",
     "url": "https://www.gnu.org/software/octave/support.html"
    },
    {
     "text": "Octave Kernel",
     "url": "https://github.com/Calysto/octave_kernel"
    },
    {
     "text": "MetaKernel Magics",
     "url": "https://metakernel.readthedocs.io/en/latest/source/README.html"
    }
   ],
   "mimetype": "text/x-octave",
   "name": "octave",
   "version": "6.2.0"
  }
 },
 "nbformat": 4,
 "nbformat_minor": 5
}
